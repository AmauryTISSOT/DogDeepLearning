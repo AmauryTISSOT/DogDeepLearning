{
 "cells": [
  {
   "cell_type": "code",
   "execution_count": 1,
   "id": "445877ba",
   "metadata": {},
   "outputs": [
    {
     "name": "stdout",
     "output_type": "stream",
     "text": [
      "Found 16508 images belonging to 120 classes.\n",
      "Found 4072 images belonging to 120 classes.\n",
      "Downloading data from https://storage.googleapis.com/tensorflow/keras-applications/xception/xception_weights_tf_dim_ordering_tf_kernels_notop.h5\n",
      "\u001b[1m83683744/83683744\u001b[0m \u001b[32m━━━━━━━━━━━━━━━━━━━━\u001b[0m\u001b[37m\u001b[0m \u001b[1m2s\u001b[0m 0us/step\n"
     ]
    },
    {
     "name": "stderr",
     "output_type": "stream",
     "text": [
      "c:\\Users\\lea\\Downloads\\Refactoring Kata\\venv\\Lib\\site-packages\\keras\\src\\trainers\\data_adapters\\py_dataset_adapter.py:121: UserWarning: Your `PyDataset` class should call `super().__init__(**kwargs)` in its constructor. `**kwargs` can include `workers`, `use_multiprocessing`, `max_queue_size`. Do not pass these arguments to `fit()`, as they will be ignored.\n",
      "  self._warn_if_super_not_called()\n"
     ]
    },
    {
     "name": "stdout",
     "output_type": "stream",
     "text": [
      "Epoch 1/10\n",
      "\u001b[1m516/516\u001b[0m \u001b[32m━━━━━━━━━━━━━━━━━━━━\u001b[0m\u001b[37m\u001b[0m \u001b[1m2576s\u001b[0m 5s/step - accuracy: 0.8103 - loss: 0.7063 - val_accuracy: 0.8539 - val_loss: 0.4928\n",
      "Epoch 2/10\n",
      "\u001b[1m516/516\u001b[0m \u001b[32m━━━━━━━━━━━━━━━━━━━━\u001b[0m\u001b[37m\u001b[0m \u001b[1m4536s\u001b[0m 9s/step - accuracy: 0.8726 - loss: 0.3897 - val_accuracy: 0.8524 - val_loss: 0.4905\n",
      "Epoch 3/10\n",
      "\u001b[1m516/516\u001b[0m \u001b[32m━━━━━━━━━━━━━━━━━━━━\u001b[0m\u001b[37m\u001b[0m \u001b[1m2039s\u001b[0m 4s/step - accuracy: 0.8911 - loss: 0.3270 - val_accuracy: 0.8681 - val_loss: 0.4335\n",
      "Epoch 4/10\n",
      "\u001b[1m516/516\u001b[0m \u001b[32m━━━━━━━━━━━━━━━━━━━━\u001b[0m\u001b[37m\u001b[0m \u001b[1m1419s\u001b[0m 3s/step - accuracy: 0.9050 - loss: 0.2841 - val_accuracy: 0.8708 - val_loss: 0.4669\n",
      "Epoch 5/10\n",
      "\u001b[1m516/516\u001b[0m \u001b[32m━━━━━━━━━━━━━━━━━━━━\u001b[0m\u001b[37m\u001b[0m \u001b[1m1112s\u001b[0m 2s/step - accuracy: 0.9110 - loss: 0.2611 - val_accuracy: 0.8551 - val_loss: 0.4983\n",
      "Epoch 6/10\n",
      "\u001b[1m516/516\u001b[0m \u001b[32m━━━━━━━━━━━━━━━━━━━━\u001b[0m\u001b[37m\u001b[0m \u001b[1m1176s\u001b[0m 2s/step - accuracy: 0.9197 - loss: 0.2268 - val_accuracy: 0.8644 - val_loss: 0.4891\n",
      "Epoch 7/10\n",
      "\u001b[1m516/516\u001b[0m \u001b[32m━━━━━━━━━━━━━━━━━━━━\u001b[0m\u001b[37m\u001b[0m \u001b[1m3142s\u001b[0m 6s/step - accuracy: 0.9265 - loss: 0.2017 - val_accuracy: 0.8585 - val_loss: 0.5414\n",
      "Epoch 8/10\n",
      "\u001b[1m516/516\u001b[0m \u001b[32m━━━━━━━━━━━━━━━━━━━━\u001b[0m\u001b[37m\u001b[0m \u001b[1m1372s\u001b[0m 3s/step - accuracy: 0.9325 - loss: 0.1930 - val_accuracy: 0.8558 - val_loss: 0.5509\n",
      "Epoch 9/10\n",
      "\u001b[1m516/516\u001b[0m \u001b[32m━━━━━━━━━━━━━━━━━━━━\u001b[0m\u001b[37m\u001b[0m \u001b[1m1350s\u001b[0m 3s/step - accuracy: 0.9388 - loss: 0.1731 - val_accuracy: 0.8583 - val_loss: 0.5542\n",
      "Epoch 10/10\n",
      "\u001b[1m516/516\u001b[0m \u001b[32m━━━━━━━━━━━━━━━━━━━━\u001b[0m\u001b[37m\u001b[0m \u001b[1m1329s\u001b[0m 3s/step - accuracy: 0.9408 - loss: 0.1632 - val_accuracy: 0.8600 - val_loss: 0.5711\n"
     ]
    },
    {
     "name": "stderr",
     "output_type": "stream",
     "text": [
      "WARNING:absl:You are saving your model as an HDF5 file via `model.save()` or `keras.saving.save_model(model)`. This file format is considered legacy. We recommend using instead the native Keras format, e.g. `model.save('my_model.keras')` or `keras.saving.save_model(model, 'my_model.keras')`. \n"
     ]
    }
   ],
   "source": [
    "import tensorflow as tf\n",
    "from tensorflow.keras.preprocessing.image import ImageDataGenerator\n",
    "from tensorflow.keras.applications import Xception\n",
    "from tensorflow.keras.models import Model\n",
    "from tensorflow.keras.layers import Dense, GlobalAveragePooling2D\n",
    "from tensorflow.keras.optimizers import Adam\n",
    "\n",
    "# 📦 Paramètres\n",
    "IMG_SIZE = 299  # Xception attend des images 299x299\n",
    "BATCH_SIZE = 32\n",
    "EPOCHS = 10\n",
    "DATA_DIR = './stanford_dogs/Images'  # Dossier contenant les sous-dossiers par race\n",
    "\n",
    "# 🔄 Prétraitement des images\n",
    "train_datagen = ImageDataGenerator(\n",
    "    rescale=1./255,\n",
    "    validation_split=0.2,\n",
    "    horizontal_flip=True,\n",
    "    zoom_range=0.2\n",
    ")\n",
    "\n",
    "train_generator = train_datagen.flow_from_directory(\n",
    "    DATA_DIR,\n",
    "    target_size=(IMG_SIZE, IMG_SIZE),\n",
    "    batch_size=BATCH_SIZE,\n",
    "    class_mode='categorical',\n",
    "    subset='training'\n",
    ")\n",
    "\n",
    "val_generator = train_datagen.flow_from_directory(\n",
    "    DATA_DIR,\n",
    "    target_size=(IMG_SIZE, IMG_SIZE),\n",
    "    batch_size=BATCH_SIZE,\n",
    "    class_mode='categorical',\n",
    "    subset='validation'\n",
    ")\n",
    "\n",
    "# 🧠 Chargement du modèle Xception sans la dernière couche\n",
    "base_model = Xception(weights='imagenet', include_top=False, input_shape=(IMG_SIZE, IMG_SIZE, 3))\n",
    "\n",
    "# 🔒 On gèle les couches du modèle pré-entraîné\n",
    "base_model.trainable = False\n",
    "\n",
    "# 🏗️ Ajout des couches de classification\n",
    "x = base_model.output\n",
    "x = GlobalAveragePooling2D()(x)\n",
    "x = Dense(1024, activation='relu')(x)\n",
    "predictions = Dense(train_generator.num_classes, activation='softmax')(x)\n",
    "\n",
    "model = Model(inputs=base_model.input, outputs=predictions)\n",
    "\n",
    "# ⚙️ Compilation\n",
    "model.compile(optimizer=Adam(), loss='categorical_crossentropy', metrics=['accuracy'])\n",
    "\n",
    "# 🚀 Entraînement\n",
    "model.fit(train_generator, validation_data=val_generator, epochs=EPOCHS)\n",
    "\n",
    "# 💾 Sauvegarde du modèle\n",
    "model.save('xception_dog_breed_classifier.h5')"
   ]
  },
  {
   "cell_type": "code",
   "execution_count": 2,
   "id": "5921ef02",
   "metadata": {},
   "outputs": [
    {
     "name": "stdout",
     "output_type": "stream",
     "text": [
      "\u001b[1m128/128\u001b[0m \u001b[32m━━━━━━━━━━━━━━━━━━━━\u001b[0m\u001b[37m\u001b[0m \u001b[1m800s\u001b[0m 6s/step - accuracy: 0.8649 - loss: 0.5732\n",
      "Accuracy: 86.49%\n",
      "Loss: 0.5732\n",
      "\u001b[1m128/128\u001b[0m \u001b[32m━━━━━━━━━━━━━━━━━━━━\u001b[0m\u001b[37m\u001b[0m \u001b[1m769s\u001b[0m 6s/step\n"
     ]
    }
   ],
   "source": [
    "import numpy as np\n",
    "loss, accuracy = model.evaluate(val_generator)\n",
    "print(f\"Accuracy: {accuracy:.2%}\")\n",
    "print(f\"Loss: {loss:.4f}\")\n",
    "y_pred = model.predict(val_generator)\n",
    "y_pred_classes = np.argmax(y_pred, axis=1)\n",
    "y_true = val_generator.classes\n",
    "class_labels = list(val_generator.class_indices.keys())\n",
    "    \n"
   ]
  }
 ],
 "metadata": {
  "kernelspec": {
   "display_name": "venv",
   "language": "python",
   "name": "python3"
  },
  "language_info": {
   "codemirror_mode": {
    "name": "ipython",
    "version": 3
   },
   "file_extension": ".py",
   "mimetype": "text/x-python",
   "name": "python",
   "nbconvert_exporter": "python",
   "pygments_lexer": "ipython3",
   "version": "3.11.9"
  }
 },
 "nbformat": 4,
 "nbformat_minor": 5
}
